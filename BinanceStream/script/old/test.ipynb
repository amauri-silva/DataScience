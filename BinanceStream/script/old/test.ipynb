{
 "cells": [
  {
   "cell_type": "code",
   "execution_count": 1,
   "metadata": {},
   "outputs": [
    {
     "name": "stdout",
     "output_type": "stream",
     "text": [
      "  event_type     event_time   symbol aggregate_trade_id         price  \\\n",
      "0   aggTrade  1709414350612  SOLUSDT          300760090  129.52000000   \n",
      "\n",
      "     quantity first_trade_id last_trade_id     trade_time  \\\n",
      "0  0.80000000      474851197     474851197  1709414350611   \n",
      "\n",
      "  is_the_buyer_market_maker ignore  \n",
      "0                      True   True  \n"
     ]
    }
   ],
   "source": [
    "import json\n",
    "import pandas as pd\n",
    "import os\n",
    "import json\n",
    "import websocket\n",
    "import pandas as pd\n",
    "from csv import writer\n",
    "import csv\n",
    "import os\n",
    "\n",
    "\n",
    "a_asserts = ['solusdt']\n",
    "a_asserts = [coin.lower() + \"@trade\" for coin in a_asserts]\n",
    "a_asserts = '/'.join(a_asserts)\n",
    "\n",
    "\n",
    "b_asserts = ['solusdt']\n",
    "b_asserts = [coin.lower() + \"@depth20@100ms\" for coin in a_asserts]\n",
    "b_asserts = '/'.join(b_asserts)\n",
    "\n",
    "\n",
    "_CSV_PATH = '/home/amaurisilva/dev-environment/vscode-worspace/DataScience/JupyterNotebook/BinanceStream/script/'\n",
    "_CSV_FILE = 'stream_binance.csv'\n",
    "_FILE = _CSV_PATH + _CSV_FILE\n",
    "_COL = {'event_type', 'event_time', 'symbol', 'trade', 'price', 'quantity', 'buyer_order_id', 'seller_order_id', 'trade_time', 'is_the_buyer_market_maker', 'ignore'}\n",
    "\n",
    "_JSON = {\"e\": \"aggTrade\", \"E\": 1709414350612, \"s\": \"SOLUSDT\", \"a\": 300760090, \"p\": \"129.52000000\", \"q\": \"0.80000000\", \"f\": 474851197, \"l\": 474851197, \"T\": 1709414350611, \"m\": True, \"M\": True}\n",
    "\n",
    "def __on_message(json):\n",
    "    \n",
    "    df = pd.DataFrame.from_dict(json, orient='index')\n",
    "    df_t = df.transpose()\n",
    "    df2 = df_t.rename(columns={\"e\":\"event_type\", \"E\":\"event_time\", \"s\":\"symbol\", \"a\":\"aggregate_trade_id\", \"p\":\"price\", \"q\":\"quantity\", \"f\":\"first_trade_id\", \"l\":\"last_trade_id\", \"T\":\"trade_time\", \"m\":\"is_the_buyer_market_maker\", \"M\":\"ignore\"})\n",
    "    \n",
    "    df2.to_csv('output.csv', index=False, sep=';')\n",
    "    print(df2)\n",
    "    \n",
    "    #print(df)\n",
    "    \n",
    "    \n",
    "def run_websocket():\n",
    "\n",
    "    socket = \"wss://stream.binance.com:9443/stream?streams=\"+a_asserts\n",
    "    #socket\n",
    "\n",
    "    #websocket.enableTrace(True)\n",
    "    ws = websocket.WebSocketApp(socket, on_message=on_message)\n",
    "    ws.run_forever()\n",
    "    #ws.close()\n",
    "\n",
    "__on_message(_JSON)"
   ]
  }
 ],
 "metadata": {
  "kernelspec": {
   "display_name": ".venv",
   "language": "python",
   "name": "python3"
  },
  "language_info": {
   "codemirror_mode": {
    "name": "ipython",
    "version": 3
   },
   "file_extension": ".py",
   "mimetype": "text/x-python",
   "name": "python",
   "nbconvert_exporter": "python",
   "pygments_lexer": "ipython3",
   "version": "3.10.12"
  }
 },
 "nbformat": 4,
 "nbformat_minor": 2
}
