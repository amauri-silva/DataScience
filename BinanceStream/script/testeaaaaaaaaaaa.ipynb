{
 "cells": [
  {
   "cell_type": "code",
   "execution_count": 39,
   "metadata": {},
   "outputs": [],
   "source": [
    "import json\n",
    "import pandas as pd\n",
    "import os\n",
    "import json\n",
    "import websocket\n",
    "import pandas as pd\n",
    "from csv import writer\n",
    "import csv\n",
    "import os\n",
    "\n",
    "\n",
    "asserts = ['SOLUSDT']\n",
    "# asserts = [coin.lower() + \"@depth20@100ms\" for coin in asserts]\n",
    "asserts = [coin.lower() + \"@aggTrade\" for coin in asserts]\n",
    "asserts = '/'.join(asserts)\n",
    "\n",
    "\n",
    "_CSV_PATH = '/home/amaurisilva/dev-environment/vscode-worspace/DataScience/JupyterNotebook/BinanceStream/script/'\n",
    "_CSV_FILE = 'stream_binance.csv'\n",
    "_FILE = _CSV_FILE\n",
    "_COLUMNS_NAME_STTRADE = {'e':'event_type', 'E':'event_time', 's':'symbol', 't':'trade', 'p':'price', 'q':'quantity', 'b':'buyer_order_id', 'a':'seller_order_id', 'T':'trade_time', 'm':'is_the_buyer_market_maker', 'M':'ignore'}\n"
   ]
  },
  {
   "cell_type": "code",
   "execution_count": 62,
   "metadata": {},
   "outputs": [
    {
     "name": "stdout",
     "output_type": "stream",
     "text": [
      "[{'e': 'aggTrade', 'E': 1709414703515, 's': 'SOLUSDT', 'a': 300760776, 'p': '129.56000000', 'q': '0.64000000', 'f': 474852844, 'l': 474852844, 'T': 1709414703515, 'm': True, 'M': True}]\n",
      "AAAAAAAAAAAAAAAAAAAA\n",
      "[{'e': 'aggTrade', 'E': 1709414703866, 's': 'SOLUSDT', 'a': 300760777, 'p': '129.56000000', 'q': '58.37000000', 'f': 474852845, 'l': 474852852, 'T': 1709414703865, 'm': True, 'M': True}]\n",
      "AAAAAAAAAAAAAAAAAAAA\n",
      "[{'e': 'aggTrade', 'E': 1709414704050, 's': 'SOLUSDT', 'a': 300760778, 'p': '129.56000000', 'q': '0.17000000', 'f': 474852853, 'l': 474852856, 'T': 1709414704049, 'm': True, 'M': True}]\n",
      "AAAAAAAAAAAAAAAAAAAA\n",
      "[{'e': 'aggTrade', 'E': 1709414704588, 's': 'SOLUSDT', 'a': 300760779, 'p': '129.55000000', 'q': '0.37000000', 'f': 474852857, 'l': 474852857, 'T': 1709414704588, 'm': True, 'M': True}]\n",
      "AAAAAAAAAAAAAAAAAAAA\n",
      "[{'e': 'aggTrade', 'E': 1709414706316, 's': 'SOLUSDT', 'a': 300760780, 'p': '129.55000000', 'q': '0.20000000', 'f': 474852858, 'l': 474852858, 'T': 1709414706316, 'm': False, 'M': True}]\n",
      "AAAAAAAAAAAAAAAAAAAA\n",
      "[{'e': 'aggTrade', 'E': 1709414706994, 's': 'SOLUSDT', 'a': 300760781, 'p': '129.54000000', 'q': '4.00000000', 'f': 474852859, 'l': 474852859, 'T': 1709414706993, 'm': True, 'M': True}]\n",
      "AAAAAAAAAAAAAAAAAAAA\n"
     ]
    }
   ],
   "source": [
    "\n",
    "\n",
    "def data_frame_sttrade(json):\n",
    "\n",
    "    j = [json['data']]\n",
    "    print(j)\n",
    "\n",
    "        #open file\n",
    "    if(os.path.exists(_FILE) and os.stat(_FILE) != 0):\n",
    "\n",
    "        #write adding new lines\n",
    "        with open(_FILE, 'a', newline='') as object:\n",
    "            w_object = writer(object)\n",
    "            w_object.writerow(j)\n",
    "            object.close()\n",
    "        print('AAAAAAAAAAAAAAAAAAAA')\n",
    "    #return df\n",
    "\n",
    "\n",
    "def json_to_csvfile(csv_file, data_frame):\n",
    "    if(os.path.exists(csv_file) and os.stat(csv_file) != 0):\n",
    "\n",
    "        print(data_frame)\n",
    "        #write adding new lines\n",
    "        with open(csv_file, 'a', newline='') as object:\n",
    "            w_object = writer(object)\n",
    "            for index, row in data_frame.iterrows():\n",
    "                w_object.writerow(row)\n",
    "            object.close()\n",
    "\n",
    "    else:\n",
    "        data_frame.to_csv(csv_file, sep=\",\", index=False)\n",
    "\n",
    "def on_message(ws, message):\n",
    "    jsn = json.loads(message)\n",
    "    data_frame_sttrade(jsn)\n",
    "    \n",
    "    \n",
    "def run_websocket():\n",
    "    socket = \"wss://stream.binance.com:9443/stream?streams=\"+asserts\n",
    "    #socket\n",
    "\n",
    "    #websocket.enableTrace(True)\n",
    "    ws = websocket.WebSocketApp(socket, on_message=on_message)\n",
    "    ws.run_forever()\n",
    "\n",
    "run_websocket()"
   ]
  }
 ],
 "metadata": {
  "kernelspec": {
   "display_name": ".venv",
   "language": "python",
   "name": "python3"
  },
  "language_info": {
   "codemirror_mode": {
    "name": "ipython",
    "version": 3
   },
   "file_extension": ".py",
   "mimetype": "text/x-python",
   "name": "python",
   "nbconvert_exporter": "python",
   "pygments_lexer": "ipython3",
   "version": "3.10.12"
  }
 },
 "nbformat": 4,
 "nbformat_minor": 2
}
